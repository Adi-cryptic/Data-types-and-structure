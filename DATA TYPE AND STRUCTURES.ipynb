{
 "cells": [
  {
   "cell_type": "code",
   "execution_count": 1,
   "id": "dd6bbfa4",
   "metadata": {},
   "outputs": [],
   "source": [
    "# Question 1: What are data structures, and why are they important?\n",
    "# ans: Data structure is a way or organising and storing data so that it can be accessed and manipulated easily. It is important because a well choosen data can optimize searching and storing operation and conserve memory usage"
   ]
  },
  {
   "cell_type": "code",
   "execution_count": 2,
   "id": "0e838946",
   "metadata": {},
   "outputs": [],
   "source": [
    "#Question 2:  Explain the difference between mutable and immutable data types with example?\n",
    "# ans: Mutable data types are container or objects whose state or value can be chnaged after they are created are called as mutable objects or container also called as item assignment. Ex- list supports item assignment\n",
    "#      Immutable data types are container or objects whose state or value cant be chnaged after they are created are called as immutable data types. Ex- tuple"
   ]
  },
  {
   "cell_type": "code",
   "execution_count": 3,
   "id": "d834dbec",
   "metadata": {},
   "outputs": [],
   "source": [
    "#Question 3: What are the main differences between lists and tuples in Python?\n",
    "# ans: Lists are mutable and represented in[] while tuples are immutable and represented in(). "
   ]
  },
  {
   "cell_type": "code",
   "execution_count": 4,
   "id": "3eadcc21",
   "metadata": {},
   "outputs": [],
   "source": [
    "#Question 4:  Describe how dictionaries store data\n",
    "# ans: Dictonary stores values or datas in the form of key values or words."
   ]
  },
  {
   "cell_type": "code",
   "execution_count": 5,
   "id": "1b546a06",
   "metadata": {},
   "outputs": [],
   "source": [
    "#Question 5: Why might you use a set instead of a list in Python?\n",
    "# ans: List are ordered collection of elements while set is a unordered collection of unique elements. Suppose while making a grocery list you mistakenly add an items twice or thrice which will result in buying the item one more time but when you mention an item or value more than once in a set it will print only once marking it as a unique value. "
   ]
  },
  {
   "cell_type": "code",
   "execution_count": 6,
   "id": "3179be55",
   "metadata": {},
   "outputs": [],
   "source": [
    "#Question 6: What is a string in Python, and how is it different from a list3\n",
    "# ans: A string is a data type while a list is a data structure which is a set of different data types like string, boolean, float. "
   ]
  },
  {
   "cell_type": "code",
   "execution_count": 28,
   "id": "1c447fc1",
   "metadata": {},
   "outputs": [],
   "source": [
    "#Question 7: How do tuples ensure data integrity in Python\n",
    "# ans: As it is immutable in nature so it is used in places where you dont want to modify data hence ensuring the data integrity"
   ]
  },
  {
   "cell_type": "code",
   "execution_count": null,
   "id": "28dc7bed",
   "metadata": {},
   "outputs": [],
   "source": [
    "# Question 8:What is a hash table, and how does it relate to dictionaries in Python\n",
    "# ans: "
   ]
  },
  {
   "cell_type": "code",
   "execution_count": null,
   "id": "2675ee82",
   "metadata": {},
   "outputs": [],
   "source": [
    "# Question 9: Can lists contain different data types in Python?\n",
    "# ans: yes list can contain different data types, so it is heterogeneous in nature."
   ]
  },
  {
   "cell_type": "code",
   "execution_count": null,
   "id": "55d31731",
   "metadata": {},
   "outputs": [],
   "source": [
    "# Question 10: Explain why strings are immutable in Python\n",
    "# ans: string is an inbuilt data type like any other data types and as in built data types are immutable they cant be changed once created so string is also immutable."
   ]
  },
  {
   "cell_type": "code",
   "execution_count": null,
   "id": "dc39eff0",
   "metadata": {},
   "outputs": [],
   "source": [
    "# Question 11: What advantages do dictionaries offer over lists for certain tasks\n",
    "# ans. In dictionaries we can have better representation pf complex data and it has faster data retrieval than lists."
   ]
  },
  {
   "cell_type": "code",
   "execution_count": null,
   "id": "23972e95",
   "metadata": {},
   "outputs": [],
   "source": [
    "# Question 12:Describe a scenario where using a tuple would be preferable over a list\n",
    "# ans: In an office case where employees are provided with employee ids, if it is stored in the form of list and not in the form of tuple then it may get manipulated as list is mutable. So tuple prevents the data."
   ]
  },
  {
   "cell_type": "code",
   "execution_count": null,
   "id": "3eeccb69",
   "metadata": {},
   "outputs": [],
   "source": [
    "# Question 13: How do sets handle duplicate values in Python3\n",
    "# ans. as sets are unordered and do not allow duplicates it automatically removes duplicates values when elements are added."
   ]
  },
  {
   "cell_type": "code",
   "execution_count": null,
   "id": "53f74102",
   "metadata": {},
   "outputs": [],
   "source": [
    "# Question 14:How does the “in” keyword work differently for lists and dictionaries\n",
    "# ans. in keyword in list is used to check if the given value exists in the list while in disctionary it checks whether a given key exists or not."
   ]
  },
  {
   "cell_type": "code",
   "execution_count": null,
   "id": "4125dbe9",
   "metadata": {},
   "outputs": [],
   "source": [
    "# Question 15: Can you modify the elements of a tuple? Explain why or why not\n",
    "# ans. No we can not modify elements of a tuple as it is immutable in nature."
   ]
  },
  {
   "cell_type": "code",
   "execution_count": null,
   "id": "23ca6971",
   "metadata": {},
   "outputs": [],
   "source": [
    "# Question 16: What is a nested dictionary, and give an example of its use case3\n"
   ]
  },
  {
   "cell_type": "code",
   "execution_count": null,
   "id": "2c9c38e4",
   "metadata": {},
   "outputs": [],
   "source": [
    "# Question 17: Describe the time complexity of accessing elements in a dictionary"
   ]
  },
  {
   "cell_type": "code",
   "execution_count": null,
   "id": "4e7c89bd",
   "metadata": {},
   "outputs": [],
   "source": [
    "# Question 18:P In what situations are lists preferred over dictionaries\n",
    "# ans. Lists are ordered while dictonaries are unordered. so if maintaininng the sequence is important then list is a better choice."
   ]
  },
  {
   "cell_type": "code",
   "execution_count": null,
   "id": "f2868c86",
   "metadata": {},
   "outputs": [],
   "source": [
    "# Question 19: Why are dictionaries considered unordered, and how does that affect data retrieval\n"
   ]
  },
  {
   "cell_type": "code",
   "execution_count": null,
   "id": "20dc41ba",
   "metadata": {},
   "outputs": [],
   "source": [
    "# Question 20: Explain the difference between a list and a dictionary in terms of data retrieval.\n",
    "# ans: in list you can access values using index and accessing an invalid index raises an Indexerror while in dictonary you can access values using keys and accessing a non existing keys raises Keyerror"
   ]
  },
  {
   "cell_type": "code",
   "execution_count": null,
   "id": "699784d3",
   "metadata": {},
   "outputs": [],
   "source": []
  },
  {
   "cell_type": "code",
   "execution_count": 7,
   "id": "1747d33d",
   "metadata": {},
   "outputs": [],
   "source": [
    "#PRACTICAL QUESTIONS:"
   ]
  },
  {
   "cell_type": "code",
   "execution_count": 9,
   "id": "d4c2b560",
   "metadata": {},
   "outputs": [
    {
     "name": "stdout",
     "output_type": "stream",
     "text": [
      "my_name: Aditya Chhotray\n"
     ]
    }
   ],
   "source": [
    "# 1.Write a code to create a string with your name and print it\n",
    "my_name= \"Aditya Chhotray\"\n",
    "print(\"my_name:\", my_name)"
   ]
  },
  {
   "cell_type": "code",
   "execution_count": 10,
   "id": "72e6b3f8",
   "metadata": {},
   "outputs": [
    {
     "data": {
      "text/plain": [
       "11"
      ]
     },
     "execution_count": 10,
     "metadata": {},
     "output_type": "execute_result"
    }
   ],
   "source": [
    "# 2.Write a code to find the length of the string \"Hello World\"\n",
    "string= \"Hello World\"\n",
    "len(string)"
   ]
  },
  {
   "cell_type": "code",
   "execution_count": 13,
   "id": "4c396f84",
   "metadata": {},
   "outputs": [
    {
     "data": {
      "text/plain": [
       "'pyt'"
      ]
     },
     "execution_count": 13,
     "metadata": {},
     "output_type": "execute_result"
    }
   ],
   "source": [
    "# 3. Write a code to slice the first 3 characters from the string \"Python Programming\"\n",
    "string=\"python Programming\"\n",
    "string[0:3]"
   ]
  },
  {
   "cell_type": "code",
   "execution_count": 14,
   "id": "e900ac21",
   "metadata": {},
   "outputs": [
    {
     "data": {
      "text/plain": [
       "'HELLO'"
      ]
     },
     "execution_count": 14,
     "metadata": {},
     "output_type": "execute_result"
    }
   ],
   "source": [
    "# 4.Write a code to convert the string \"hello\" to uppercase?\n",
    "string = \"hello\"\n",
    "string.upper()"
   ]
  },
  {
   "cell_type": "code",
   "execution_count": 15,
   "id": "4e691a1b",
   "metadata": {},
   "outputs": [
    {
     "data": {
      "text/plain": [
       "'I like orange'"
      ]
     },
     "execution_count": 15,
     "metadata": {},
     "output_type": "execute_result"
    }
   ],
   "source": [
    "# 5.Write a code to replace the word \"apple\" with \"orange\" in the string \"I like apple\".\n",
    "string= \"I like apple\"\n",
    "string.replace(\"apple\",\"orange\")"
   ]
  },
  {
   "cell_type": "code",
   "execution_count": 17,
   "id": "0d3c7762",
   "metadata": {},
   "outputs": [
    {
     "name": "stdout",
     "output_type": "stream",
     "text": [
      "my list is: [1, 2, 3, 4, 5]\n"
     ]
    }
   ],
   "source": [
    "#. 6.Write a code to create a list with numbers 1 to 5 and print it.\n",
    "my_list= [1,2,3,4,5]\n",
    "print(\"my list is:\", my_list)"
   ]
  },
  {
   "cell_type": "code",
   "execution_count": 19,
   "id": "f67e6685",
   "metadata": {},
   "outputs": [
    {
     "data": {
      "text/plain": [
       "[1, 2, 3, 4, 10]"
      ]
     },
     "execution_count": 19,
     "metadata": {},
     "output_type": "execute_result"
    }
   ],
   "source": [
    "#. 7. Write a code to append the number 10 to the list [1, 2, 3, 4]\n",
    "string= [1,2,3,4]\n",
    "string.append(10)\n",
    "string"
   ]
  },
  {
   "cell_type": "code",
   "execution_count": 21,
   "id": "e088cf63",
   "metadata": {},
   "outputs": [
    {
     "data": {
      "text/plain": [
       "[1, 2, 4, 5]"
      ]
     },
     "execution_count": 21,
     "metadata": {},
     "output_type": "execute_result"
    }
   ],
   "source": [
    "# 8.Write a code to remove the number 3 from the list [1, 2, 3, 4, 5]\n",
    "string= [1,2,3,4,5]\n",
    "string.remove(3)\n",
    "string"
   ]
  },
  {
   "cell_type": "code",
   "execution_count": 22,
   "id": "8b5a8cdb",
   "metadata": {},
   "outputs": [
    {
     "data": {
      "text/plain": [
       "'b'"
      ]
     },
     "execution_count": 22,
     "metadata": {},
     "output_type": "execute_result"
    }
   ],
   "source": [
    "# 9.Write a code to access the second element in the list ['a', 'b', 'c', 'd']\n",
    "string= ['a','b','c','d',]\n",
    "string[1]"
   ]
  },
  {
   "cell_type": "code",
   "execution_count": 24,
   "id": "ac39f23f",
   "metadata": {},
   "outputs": [
    {
     "data": {
      "text/plain": [
       "[50, 40, 30, 20, 10]"
      ]
     },
     "execution_count": 24,
     "metadata": {},
     "output_type": "execute_result"
    }
   ],
   "source": [
    "# 10.Write a code to reverse the list [10, 20, 30, 40, 50].\n",
    "string= [10,20,30,40,50]\n",
    "string.reverse()\n",
    "string"
   ]
  },
  {
   "cell_type": "code",
   "execution_count": 25,
   "id": "dabc2121",
   "metadata": {},
   "outputs": [
    {
     "name": "stdout",
     "output_type": "stream",
     "text": [
      "my tuple is: (100, 200, 300)\n"
     ]
    }
   ],
   "source": [
    "# 11.Write a code to create a tuple with the elements 100, 200, 300 and print it.\n",
    "my_tuple= (100,200,300)\n",
    "print(\"my tuple is:\",my_tuple)"
   ]
  },
  {
   "cell_type": "code",
   "execution_count": 26,
   "id": "37a7b419",
   "metadata": {},
   "outputs": [
    {
     "data": {
      "text/plain": [
       "('green', 'blue', 'yellow')"
      ]
     },
     "execution_count": 26,
     "metadata": {},
     "output_type": "execute_result"
    }
   ],
   "source": [
    "#12. Write a code to access the second-to-last element of the tuple ('red', 'green', 'blue', 'yellow')\n",
    "string= ('red', 'green', 'blue', 'yellow')\n",
    "string[1:]"
   ]
  },
  {
   "cell_type": "code",
   "execution_count": 27,
   "id": "246429c5",
   "metadata": {},
   "outputs": [
    {
     "data": {
      "text/plain": [
       "10"
      ]
     },
     "execution_count": 27,
     "metadata": {},
     "output_type": "execute_result"
    }
   ],
   "source": [
    "# 13.Write a code to find the minimum number in the tuple (10, 20, 5, 15).\n",
    "my_tuple= (10,20,30,40)\n",
    "min(my_tuple)"
   ]
  },
  {
   "cell_type": "code",
   "execution_count": 28,
   "id": "c7ff31d1",
   "metadata": {},
   "outputs": [
    {
     "data": {
      "text/plain": [
       "1"
      ]
     },
     "execution_count": 28,
     "metadata": {},
     "output_type": "execute_result"
    }
   ],
   "source": [
    "#14. Write a code to find the index of the element \"cat\" in the tuple ('dog', 'cat', 'rabbit')\n",
    "my_tuple= ('dog','cat','rabbit')\n",
    "my_tuple.index('cat')"
   ]
  },
  {
   "cell_type": "code",
   "execution_count": 29,
   "id": "d2d91747",
   "metadata": {},
   "outputs": [
    {
     "data": {
      "text/plain": [
       "False"
      ]
     },
     "execution_count": 29,
     "metadata": {},
     "output_type": "execute_result"
    }
   ],
   "source": [
    "#15.  Write a code to create a tuple containing three different fruits and check if \"kiwi\" is in it.\n",
    "my_tuple= ('apple','banana','orange')\n",
    "\"kiwi\" in my_tuple"
   ]
  },
  {
   "cell_type": "code",
   "execution_count": 30,
   "id": "3d90b128",
   "metadata": {},
   "outputs": [
    {
     "name": "stdout",
     "output_type": "stream",
     "text": [
      "my set is: {'c', 'a', 'b'}\n"
     ]
    }
   ],
   "source": [
    "# 16.Write a code to create a set with the elements 'a', 'b', 'c' and print it.\n",
    "my_set= {'a','b','c'}\n",
    "print(\"my set is:\",my_set)\n"
   ]
  },
  {
   "cell_type": "code",
   "execution_count": 32,
   "id": "25e8acb7",
   "metadata": {},
   "outputs": [
    {
     "data": {
      "text/plain": [
       "set()"
      ]
     },
     "execution_count": 32,
     "metadata": {},
     "output_type": "execute_result"
    }
   ],
   "source": [
    "# 17.Write a code to clear all elements from the set {1, 2, 3, 4, 5}.\n",
    "my_set= {1,2,3,4,5}\n",
    "my_set.clear()\n",
    "my_set"
   ]
  },
  {
   "cell_type": "code",
   "execution_count": 33,
   "id": "c612dfe7",
   "metadata": {},
   "outputs": [
    {
     "data": {
      "text/plain": [
       "{1, 2, 3}"
      ]
     },
     "execution_count": 33,
     "metadata": {},
     "output_type": "execute_result"
    }
   ],
   "source": [
    "#18.  Write a code to remove the element 4 from the set {1, 2, 3, 4}.\n",
    "my_set= {1,2,3,4}\n",
    "my_set.remove(4)\n",
    "my_set"
   ]
  },
  {
   "cell_type": "code",
   "execution_count": 2,
   "id": "6902315d",
   "metadata": {},
   "outputs": [
    {
     "data": {
      "text/plain": [
       "{1, 2, 3, 4, 5}"
      ]
     },
     "execution_count": 2,
     "metadata": {},
     "output_type": "execute_result"
    }
   ],
   "source": [
    "#19.  Write a code to find the union of two sets {1, 2, 3} and {3, 4, 5}\n",
    "a= {1,2,3}\n",
    "b= {3,4,5}\n",
    "a | b"
   ]
  },
  {
   "cell_type": "code",
   "execution_count": 3,
   "id": "22e83919",
   "metadata": {},
   "outputs": [
    {
     "data": {
      "text/plain": [
       "{2, 3}"
      ]
     },
     "execution_count": 3,
     "metadata": {},
     "output_type": "execute_result"
    }
   ],
   "source": [
    "# 20. Write a code to find the intersection of two sets {1, 2, 3} and {2, 3, 4}.\n",
    "a= {1,2,3}\n",
    "b= {2,3,4}\n",
    "a & b"
   ]
  },
  {
   "cell_type": "code",
   "execution_count": 6,
   "id": "2f52ecfe",
   "metadata": {},
   "outputs": [
    {
     "data": {
      "text/plain": [
       "{'name': 'Aditya', 'age': 23, 'city': 'Bhaubaneswar'}"
      ]
     },
     "execution_count": 6,
     "metadata": {},
     "output_type": "execute_result"
    }
   ],
   "source": [
    "# 21. Write a code to create a dictionary with the keys \"name\", \"age\", and \"city\", and print it.\n",
    "description= {\"name\":'Aditya', \"age\":23 , \"city\":\"Bhaubaneswar\"}\n",
    "description"
   ]
  },
  {
   "cell_type": "code",
   "execution_count": 7,
   "id": "274e5583",
   "metadata": {},
   "outputs": [
    {
     "data": {
      "text/plain": [
       "{'name': 'John', 'age': 25, 'country': 'USA'}"
      ]
     },
     "execution_count": 7,
     "metadata": {},
     "output_type": "execute_result"
    }
   ],
   "source": [
    "# 22. Write a code to add a new key-value pair \"country\": \"USA\" to the dictionary {'name': 'John', 'age': 25}.\n",
    "description= {\"name\":\"John\", \"age\":25}\n",
    "description[\"country\"]=\"USA\"\n",
    "description"
   ]
  },
  {
   "cell_type": "code",
   "execution_count": 8,
   "id": "f572b2ab",
   "metadata": {},
   "outputs": [
    {
     "data": {
      "text/plain": [
       "'Alice'"
      ]
     },
     "execution_count": 8,
     "metadata": {},
     "output_type": "execute_result"
    }
   ],
   "source": [
    "# 23. Write a code to access the value associated with the key \"name\" in the dictionary {'name': 'Alice', 'age': 30}.\n",
    "description = {'name': 'Alice', 'age': 30}\n",
    "description[\"name\"]"
   ]
  },
  {
   "cell_type": "code",
   "execution_count": 11,
   "id": "24d0f6a3",
   "metadata": {},
   "outputs": [
    {
     "data": {
      "text/plain": [
       "{'name': 'Bob', 'city': 'New York'}"
      ]
     },
     "execution_count": 11,
     "metadata": {},
     "output_type": "execute_result"
    }
   ],
   "source": [
    "# 24.Write a code to remove the key \"age\" from the dictionary {'name': 'Bob', 'age': 22, 'city': 'New York'}.\n",
    "description =  {'name': 'Bob', 'age': 22, 'city': 'New York'}\n",
    "del description[\"age\"]\n",
    "description"
   ]
  },
  {
   "cell_type": "code",
   "execution_count": 12,
   "id": "646e5042",
   "metadata": {},
   "outputs": [],
   "source": [
    "# 25.Write a code to check if the key \"city\" exists in the dictionary {'name': 'Alice', 'city': 'Paris'}.\n",
    "description= {'name': 'Alice', 'city': 'Paris'}\n"
   ]
  },
  {
   "cell_type": "code",
   "execution_count": 19,
   "id": "a3346df8",
   "metadata": {},
   "outputs": [
    {
     "name": "stdout",
     "output_type": "stream",
     "text": [
      "List: ['apple', 'orange', 'grapes', 'chicken', 'egg']\n",
      "Tuple: (1, 2, 4.5, True, 'ajay')\n",
      "dictionary: {'name': 'ajay', 'phone no': '56854677', 'adress': 'bbsr'}\n"
     ]
    }
   ],
   "source": [
    "# 26.  Write a code to create a list, a tuple, and a dictionary, and print them all\n",
    "a= ['apple', 'orange', 'grapes','chicken','egg']\n",
    "t= (1,2,4.5,True, \"ajay\")\n",
    "d={\"name\":\"ajay\",\"phone no\":\"56854677\", \"adress\":\"bbsr\"}\n",
    "print(\"List:\",a)\n",
    "print(\"Tuple:\",t)\n",
    "print(\"dictionary:\",d)"
   ]
  },
  {
   "cell_type": "code",
   "execution_count": 22,
   "id": "b92df49b",
   "metadata": {},
   "outputs": [
    {
     "name": "stdout",
     "output_type": "stream",
     "text": [
      "sorted list: [23, 24, 43, 45, 97]\n"
     ]
    }
   ],
   "source": [
    "# 27. Write a code to create a list of 5 random numbers between 1 and 100, sort it in ascending order, and print the result(replaced)\n",
    "\n",
    "my_list= [23,45,43,24,97]\n",
    "my_list.sort()\n",
    "print(\"sorted list:\",my_list)"
   ]
  },
  {
   "cell_type": "code",
   "execution_count": 23,
   "id": "e3b611e1",
   "metadata": {},
   "outputs": [
    {
     "data": {
      "text/plain": [
       "'chicken'"
      ]
     },
     "execution_count": 23,
     "metadata": {},
     "output_type": "execute_result"
    }
   ],
   "source": [
    "# 28. Write a code to create a list with strings and print the element at the third index.\n",
    "a= ['apple', 'orange', 'grapes','chicken','egg']\n",
    "a[3]"
   ]
  },
  {
   "cell_type": "code",
   "execution_count": 26,
   "id": "c97a5563",
   "metadata": {},
   "outputs": [
    {
     "data": {
      "text/plain": [
       "{'name': 'ajay',\n",
       " 'phone no': '56854677',\n",
       " 'adress': 'bbsr',\n",
       " 'age': 56,\n",
       " 'sex': 'male'}"
      ]
     },
     "execution_count": 26,
     "metadata": {},
     "output_type": "execute_result"
    }
   ],
   "source": [
    "# 29.Write a code to combine two dictionaries into one and print the result.\n",
    "a= {\"name\":\"ajay\",\"phone no\":\"56854677\", \"adress\":\"bbsr\"}\n",
    "b= {\"age\":56,\"sex\":\"male\"}\n",
    "a.update(b)\n",
    "a"
   ]
  },
  {
   "cell_type": "code",
   "execution_count": 27,
   "id": "1ae5a010",
   "metadata": {},
   "outputs": [
    {
     "name": "stdout",
     "output_type": "stream",
     "text": [
      "set: {'dog', 'apple', 'cat'}\n"
     ]
    }
   ],
   "source": [
    "# 30.Write a code to convert a list of strings into a set.\n",
    "lis= [\"apple\", \"cat\", \"dog\", \"cat\"]\n",
    "lis= set(lis)\n",
    "print(\"set:\", lis)"
   ]
  },
  {
   "cell_type": "code",
   "execution_count": null,
   "id": "2fe1b6e0",
   "metadata": {},
   "outputs": [],
   "source": []
  }
 ],
 "metadata": {
  "kernelspec": {
   "display_name": "Python 3",
   "language": "python",
   "name": "python3"
  },
  "language_info": {
   "codemirror_mode": {
    "name": "ipython",
    "version": 3
   },
   "file_extension": ".py",
   "mimetype": "text/x-python",
   "name": "python",
   "nbconvert_exporter": "python",
   "pygments_lexer": "ipython3",
   "version": "3.8.8"
  }
 },
 "nbformat": 4,
 "nbformat_minor": 5
}
